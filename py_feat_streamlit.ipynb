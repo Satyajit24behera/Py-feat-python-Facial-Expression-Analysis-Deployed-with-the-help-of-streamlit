{
  "nbformat": 4,
  "nbformat_minor": 0,
  "metadata": {
    "colab": {
      "provenance": [],
      "authorship_tag": "ABX9TyMzuiEQVTezZ1FLpLhx9Tba",
      "include_colab_link": true
    },
    "kernelspec": {
      "name": "python3",
      "display_name": "Python 3"
    },
    "language_info": {
      "name": "python"
    }
  },
  "cells": [
    {
      "cell_type": "markdown",
      "metadata": {
        "id": "view-in-github",
        "colab_type": "text"
      },
      "source": [
        "<a href=\"https://colab.research.google.com/github/Satyajit24behera/Py-feat-webapp/blob/main/py_feat_streamlit.ipynb\" target=\"_parent\"><img src=\"https://colab.research.google.com/assets/colab-badge.svg\" alt=\"Open In Colab\"/></a>"
      ]
    },
    {
      "cell_type": "code",
      "source": [
        "pip install -q py-feat"
      ],
      "metadata": {
        "id": "tSLky8vNDG9f"
      },
      "execution_count": null,
      "outputs": []
    },
    {
      "cell_type": "code",
      "execution_count": null,
      "metadata": {
        "id": "sd52QKo4EOBv"
      },
      "outputs": [],
      "source": [
        "!pip install streamlit\n"
      ]
    },
    {
      "cell_type": "code",
      "source": [
        "pip install pyngrok==4.1.1\n"
      ],
      "metadata": {
        "id": "7-ev9ZovFwnT"
      },
      "execution_count": null,
      "outputs": []
    },
    {
      "cell_type": "code",
      "source": [
        "#Replace the xxxx with authtoken\n",
        "!ngrok authtoken xxxx"
      ],
      "metadata": {
        "id": "HqzPwjAVF9hC"
      },
      "execution_count": null,
      "outputs": []
    },
    {
      "cell_type": "code",
      "source": [
        "from pyngrok import ngrok\n"
      ],
      "metadata": {
        "id": "-Qvr0qbjGfNC"
      },
      "execution_count": 6,
      "outputs": []
    },
    {
      "cell_type": "code",
      "source": [
        "%%writefile app.py\n",
        "import streamlit as st\n",
        "from PIL import Image\n",
        "import os\n",
        "from feat.utils.io import get_test_data_path\n",
        "from feat.plotting import imshow\n",
        "import os\n",
        "from feat.utils.io import read_feat\n",
        "import matplotlib.pyplot as plt\n",
        "from feat import Detector\n",
        "import numpy as np\n",
        "\n",
        "st.image(\"/logo.png\")\n",
        "detector = Detector(\n",
        "    face_model=\"retinaface\",\n",
        "    landmark_model=\"mobilefacenet\",\n",
        "    au_model='xgb',\n",
        "    emotion_model=\"resmasknet\",\n",
        "    facepose_model=\"img2pose\",\n",
        ")\n",
        "\n",
        "detector\n",
        "source = [\"Image\", \"Video\"]\n",
        "source_index = st.sidebar.radio(\"Select the input source:\", range(\n",
        "        len(source)), format_func=lambda x: source[x])\n",
        "is_valid=False\n",
        "\n",
        "if source_index == 0:\n",
        "# Create a file uploader in Streamlit\n",
        "    uploaded_file = st.sidebar.file_uploader(\"Upload an image\", type=[\"jpg\", \"jpeg\", \"png\"])\n",
        "\n",
        "    # Check if an image has been uploaded\n",
        "    if uploaded_file is not None:\n",
        "\n",
        "        # Open the uploaded image\n",
        "        image = Image.open(uploaded_file)\n",
        "\n",
        "        # Display the uploaded image\n",
        "        st.image(image, caption='Uploaded Image', use_column_width=True)\n",
        "\n",
        "        # Extract the filename from the uploaded file\n",
        "        filename = os.path.basename(uploaded_file.name)\n",
        "\n",
        "        # Specify the directory to save the image\n",
        "        save_directory = \"/root\"\n",
        "\n",
        "        # Save the image to the specified directory with the original filename\n",
        "        image.save(os.path.join(save_directory, filename))\n",
        "\n",
        "        single_face_img_path = os.path.join(save_directory, filename)\n",
        "        imshow(single_face_img_path)\n",
        "        st.write(\"image saved at: \",single_face_img_path)\n",
        "        single_face_prediction = detector.detect_image(single_face_img_path)\n",
        "\n",
        "        single_face_prediction\n",
        "        single_face_prediction.to_csv(\"output3t6.csv\", index=False)\n",
        "\n",
        "\n",
        "        input_prediction = read_feat(\"output3t6.csv\")\n",
        "\n",
        "\n",
        "        input_prediction\n",
        "        figs = single_face_prediction.plot_detections(poses=True)\n",
        "\n",
        "\n",
        "        for fig in figs:\n",
        "            # Display the figure using Streamlit\n",
        "            st.pyplot(fig)\n",
        "\n",
        "        figs = single_face_prediction.plot_detections(faces='aus', muscles=True)\n",
        "\n",
        "        for fig in figs:\n",
        "            # Display the figure using Streamlit\n",
        "            st.pyplot(fig)\n",
        "\n",
        "elif source_index == 1:\n",
        "    uploaded_file = st.sidebar.file_uploader(\"Upload a Video\", type=['mp4', 'mpeg', 'mov'])\n",
        "\n",
        "    if uploaded_file is not None:\n",
        "        # Extract the filename from the uploaded file\n",
        "        filename = os.path.basename(uploaded_file.name)\n",
        "\n",
        "        # Specify the directory to save the video\n",
        "        save_directory = \"/root\"\n",
        "\n",
        "        # Save the video to the specified directory with the original filename\n",
        "        save_path = os.path.join(save_directory, filename)\n",
        "\n",
        "        # Save the uploaded file to the specified path\n",
        "        with open(save_path, \"wb\") as f:\n",
        "            f.write(uploaded_file.getbuffer())\n",
        "\n",
        "        #to display the video\n",
        "        st.video(save_path)\n",
        "\n",
        "        st.success(\"Video saved successfully!\")\n",
        "        st.write(\"Video saved at:\", save_path)\n",
        "\n",
        "        video_prediction = detector.detect_video(save_path,skip_frames=24)\n",
        "\n",
        "        video_prediction\n",
        "        input_prediction = read_feat(\"output3t6.csv\")\n",
        "\n",
        "\n",
        "        input_prediction\n",
        "\n",
        "        video_prediction.shape\n",
        "\n",
        "        figs= video_prediction.loc[[48, 96]].plot_detections(faceboxes=False, add_titles=False)\n",
        "        for fig in figs:\n",
        "            # Display the figure using Streamlit\n",
        "            st.pyplot(fig)\n",
        "\n",
        "        axes = video_prediction.emotions.plot()\n",
        "\n",
        "        st.pyplot(plt)"
      ],
      "metadata": {
        "colab": {
          "base_uri": "https://localhost:8080/"
        },
        "id": "x1HUAOOOGxYV",
        "outputId": "5ee13f77-c3f4-423c-abb0-389443c40e8f"
      },
      "execution_count": 10,
      "outputs": [
        {
          "output_type": "stream",
          "name": "stdout",
          "text": [
            "Overwriting app.py\n"
          ]
        }
      ]
    },
    {
      "cell_type": "code",
      "source": [
        "!streamlit run app.py &>/dev/null&\n"
      ],
      "metadata": {
        "id": "pTGGaSm7JR-M"
      },
      "execution_count": 13,
      "outputs": []
    },
    {
      "cell_type": "code",
      "source": [
        "from pyngrok import ngrok\n",
        "\n",
        "# Connect ngrok to the running Streamlit app\n",
        "public_url = ngrok.connect(port='8501')\n",
        "public_url\n"
      ],
      "metadata": {
        "colab": {
          "base_uri": "https://localhost:8080/",
          "height": 36
        },
        "id": "iJvxgrAbJThK",
        "outputId": "9cc7be5b-e01b-4bba-c4ba-e71ee05ce15a"
      },
      "execution_count": 16,
      "outputs": [
        {
          "output_type": "execute_result",
          "data": {
            "text/plain": [
              "'http://e4c5-34-125-221-9.ngrok-free.app'"
            ],
            "application/vnd.google.colaboratory.intrinsic+json": {
              "type": "string"
            }
          },
          "metadata": {},
          "execution_count": 16
        }
      ]
    }
  ]
}