{
  "nbformat": 4,
  "nbformat_minor": 0,
  "metadata": {
    "colab": {
      "provenance": [],
      "authorship_tag": "ABX9TyMjGa1Bl8fLrBJYQo26xA56",
      "include_colab_link": true
    },
    "kernelspec": {
      "name": "python3",
      "display_name": "Python 3"
    },
    "language_info": {
      "name": "python"
    }
  },
  "cells": [
    {
      "cell_type": "markdown",
      "metadata": {
        "id": "view-in-github",
        "colab_type": "text"
      },
      "source": [
        "<a href=\"https://colab.research.google.com/github/Satyajit24behera/Py-feat-webapp/blob/main/py_feat_streamlit.ipynb\" target=\"_parent\"><img src=\"https://colab.research.google.com/assets/colab-badge.svg\" alt=\"Open In Colab\"/></a>"
      ]
    },
    {
      "cell_type": "markdown",
      "source": [
        "# Step 0: Prerequisite\n",
        "\n",
        "Get your Authentication Tokens from Ngrok and save it in a notebook. You need it later to run app.\n",
        "\n",
        "1.Go to https://dashboard.ngrok.com/get-started/setup signup for free\n",
        "\n",
        "\n",
        "2.Once you are logged in go to https://dashboard.ngrok.com/get-started/your-authtoken and copy+paste token and save it for later use.\n",
        "\n",
        "\n",
        "**NOTE**: If you already have auth token the you can skip above steps and use that token\n"
      ],
      "metadata": {
        "id": "bSV9sNR44dA0"
      }
    },
    {
      "cell_type": "code",
      "source": [
        "!git clone https://github.com/cosanlab/py-feat\n"
      ],
      "metadata": {
        "colab": {
          "base_uri": "https://localhost:8080/"
        },
        "id": "m2ak16nzmTtZ",
        "outputId": "2ca5a427-940b-4880-b69b-b7d3173b28f1"
      },
      "execution_count": 56,
      "outputs": [
        {
          "output_type": "stream",
          "name": "stdout",
          "text": [
            "Cloning into 'py-feat'...\n",
            "remote: Enumerating objects: 8947, done.\u001b[K\n",
            "remote: Counting objects: 100% (8947/8947), done.\u001b[K\n",
            "remote: Compressing objects: 100% (3033/3033), done.\u001b[K\n",
            "remote: Total 8947 (delta 5439), reused 8886 (delta 5392), pack-reused 0\u001b[K\n",
            "Receiving objects: 100% (8947/8947), 180.21 MiB | 24.36 MiB/s, done.\n",
            "Resolving deltas: 100% (5439/5439), done.\n"
          ]
        }
      ]
    },
    {
      "cell_type": "code",
      "source": [
        "cd py-feat"
      ],
      "metadata": {
        "colab": {
          "base_uri": "https://localhost:8080/"
        },
        "id": "E4KoTNPvmXjC",
        "outputId": "dbf1c71a-618d-4791-9102-61ae842aa694"
      },
      "execution_count": 57,
      "outputs": [
        {
          "output_type": "stream",
          "name": "stdout",
          "text": [
            "/content/py-feat/webapp/webapp/py-feat\n"
          ]
        }
      ]
    },
    {
      "cell_type": "code",
      "source": [
        "!git pull origin au_fixes"
      ],
      "metadata": {
        "colab": {
          "base_uri": "https://localhost:8080/"
        },
        "id": "lojwvOYEmcU6",
        "outputId": "dcb694c0-8340-4ae7-bfd6-ff9d604e7c82"
      },
      "execution_count": 58,
      "outputs": [
        {
          "output_type": "stream",
          "name": "stdout",
          "text": [
            "From https://github.com/cosanlab/py-feat\n",
            " * branch            au_fixes   -> FETCH_HEAD\n",
            "Updating 4beba11..b1021db\n",
            "Fast-forward\n",
            " docs/extra_tutorials/08_train_hogs.ipynb           | 2440 \u001b[32m++++++++++++++\u001b[m\u001b[31m------\u001b[m\n",
            " feat/au_detectors/StatLearning/SL_test.py          |  101 \u001b[32m+\u001b[m\u001b[31m-\u001b[m\n",
            " feat/detector.py                                   |    2 \u001b[32m+\u001b[m\u001b[31m-\u001b[m\n",
            " feat/emo_detectors/StatLearning/EmoSL_test.py      |   10 \u001b[32m+\u001b[m\u001b[31m-\u001b[m\n",
            " feat/facepose_detectors/img2pose/img2pose_model.py |    2 \u001b[32m+\u001b[m\u001b[31m-\u001b[m\n",
            " feat/pretrained.py                                 |   16 \u001b[32m+\u001b[m\u001b[31m-\u001b[m\n",
            " feat/resources/model_list.json                     |   57 \u001b[32m+\u001b[m\u001b[31m-\u001b[m\n",
            " 7 files changed, 1922 insertions(+), 706 deletions(-)\n"
          ]
        }
      ]
    },
    {
      "cell_type": "code",
      "source": [
        "pip install -r requirements-dev.txt"
      ],
      "metadata": {
        "colab": {
          "base_uri": "https://localhost:8080/"
        },
        "id": "HIWkTTlymgSQ",
        "outputId": "f952b03d-09ff-416f-ce72-125a22a4fb4c"
      },
      "execution_count": 59,
      "outputs": [
        {
          "output_type": "stream",
          "name": "stdout",
          "text": [
            "Requirement already satisfied: pandas>=1.0 in /usr/local/lib/python3.10/dist-packages (from -r requirements.txt (line 1)) (1.5.3)\n",
            "Requirement already satisfied: numpy>=1.9 in /usr/local/lib/python3.10/dist-packages (from -r requirements.txt (line 2)) (1.22.4)\n",
            "Requirement already satisfied: seaborn>=0.7.0 in /usr/local/lib/python3.10/dist-packages (from -r requirements.txt (line 3)) (0.12.2)\n",
            "Requirement already satisfied: matplotlib>=2.1 in /usr/local/lib/python3.10/dist-packages (from -r requirements.txt (line 4)) (3.7.1)\n",
            "Requirement already satisfied: nltools>=0.4.7 in /usr/local/lib/python3.10/dist-packages (from -r requirements.txt (line 5)) (0.4.7)\n",
            "Requirement already satisfied: scikit-learn>=1.0 in /usr/local/lib/python3.10/dist-packages (from -r requirements.txt (line 6)) (1.2.2)\n",
            "Requirement already satisfied: pywavelets>=0.3.0 in /usr/local/lib/python3.10/dist-packages (from -r requirements.txt (line 7)) (1.4.1)\n",
            "Requirement already satisfied: h5py>=2.7.0 in /usr/local/lib/python3.10/dist-packages (from -r requirements.txt (line 8)) (3.8.0)\n",
            "Requirement already satisfied: Pillow>=6.0.0 in /usr/local/lib/python3.10/dist-packages (from -r requirements.txt (line 9)) (8.4.0)\n",
            "Requirement already satisfied: torchvision in /usr/local/lib/python3.10/dist-packages (from -r requirements.txt (line 10)) (0.15.2+cu118)\n",
            "Requirement already satisfied: scikit-image>=0.19 in /usr/local/lib/python3.10/dist-packages (from -r requirements.txt (line 11)) (0.19.3)\n",
            "Requirement already satisfied: joblib in /usr/local/lib/python3.10/dist-packages (from -r requirements.txt (line 12)) (1.2.0)\n",
            "Requirement already satisfied: easing_functions in /usr/local/lib/python3.10/dist-packages (from -r requirements.txt (line 13)) (1.0.4)\n",
            "Requirement already satisfied: celluloid in /usr/local/lib/python3.10/dist-packages (from -r requirements.txt (line 14)) (0.2.0)\n",
            "Requirement already satisfied: tqdm in /usr/local/lib/python3.10/dist-packages (from -r requirements.txt (line 15)) (4.65.0)\n",
            "Requirement already satisfied: kornia in /usr/local/lib/python3.10/dist-packages (from -r requirements.txt (line 16)) (0.6.12)\n",
            "Requirement already satisfied: av>=9.2.0 in /usr/local/lib/python3.10/dist-packages (from -r requirements.txt (line 17)) (10.0.0)\n",
            "Requirement already satisfied: xgboost>=1.6.0 in /usr/local/lib/python3.10/dist-packages (from -r requirements.txt (line 18)) (1.7.6)\n",
            "Requirement already satisfied: pytest in /usr/local/lib/python3.10/dist-packages (from -r requirements-dev.txt (line 2)) (7.2.2)\n",
            "Requirement already satisfied: pytest-cov in /usr/local/lib/python3.10/dist-packages (from -r requirements-dev.txt (line 3)) (4.1.0)\n",
            "Requirement already satisfied: coveralls in /usr/local/lib/python3.10/dist-packages (from -r requirements-dev.txt (line 4)) (3.3.1)\n",
            "Requirement already satisfied: pycodestyle in /usr/local/lib/python3.10/dist-packages (from -r requirements-dev.txt (line 5)) (2.10.0)\n",
            "Requirement already satisfied: black==22.3.0 in /usr/local/lib/python3.10/dist-packages (from -r requirements-dev.txt (line 6)) (22.3.0)\n",
            "Requirement already satisfied: sphinx<6 in /usr/local/lib/python3.10/dist-packages (from -r requirements-dev.txt (line 7)) (5.0.2)\n",
            "Requirement already satisfied: sphinx-rtd-theme in /usr/local/lib/python3.10/dist-packages (from -r requirements-dev.txt (line 8)) (1.2.2)\n",
            "Requirement already satisfied: sphinxcontrib-napoleon in /usr/local/lib/python3.10/dist-packages (from -r requirements-dev.txt (line 9)) (0.7)\n",
            "Requirement already satisfied: jupyter-book in /usr/local/lib/python3.10/dist-packages (from -r requirements-dev.txt (line 10)) (0.15.1)\n",
            "Requirement already satisfied: plotly>=5.6.0 in /usr/local/lib/python3.10/dist-packages (from -r requirements-dev.txt (line 11)) (5.13.1)\n",
            "Requirement already satisfied: click>=8.0.0 in /usr/local/lib/python3.10/dist-packages (from black==22.3.0->-r requirements-dev.txt (line 6)) (8.1.3)\n",
            "Requirement already satisfied: platformdirs>=2 in /usr/local/lib/python3.10/dist-packages (from black==22.3.0->-r requirements-dev.txt (line 6)) (3.7.0)\n",
            "Requirement already satisfied: pathspec>=0.9.0 in /usr/local/lib/python3.10/dist-packages (from black==22.3.0->-r requirements-dev.txt (line 6)) (0.11.1)\n",
            "Requirement already satisfied: mypy-extensions>=0.4.3 in /usr/local/lib/python3.10/dist-packages (from black==22.3.0->-r requirements-dev.txt (line 6)) (1.0.0)\n",
            "Requirement already satisfied: tomli>=1.1.0 in /usr/local/lib/python3.10/dist-packages (from black==22.3.0->-r requirements-dev.txt (line 6)) (2.0.1)\n",
            "Requirement already satisfied: python-dateutil>=2.8.1 in /usr/local/lib/python3.10/dist-packages (from pandas>=1.0->-r requirements.txt (line 1)) (2.8.2)\n",
            "Requirement already satisfied: pytz>=2020.1 in /usr/local/lib/python3.10/dist-packages (from pandas>=1.0->-r requirements.txt (line 1)) (2022.7.1)\n",
            "Requirement already satisfied: contourpy>=1.0.1 in /usr/local/lib/python3.10/dist-packages (from matplotlib>=2.1->-r requirements.txt (line 4)) (1.1.0)\n",
            "Requirement already satisfied: cycler>=0.10 in /usr/local/lib/python3.10/dist-packages (from matplotlib>=2.1->-r requirements.txt (line 4)) (0.11.0)\n",
            "Requirement already satisfied: fonttools>=4.22.0 in /usr/local/lib/python3.10/dist-packages (from matplotlib>=2.1->-r requirements.txt (line 4)) (4.40.0)\n",
            "Requirement already satisfied: kiwisolver>=1.0.1 in /usr/local/lib/python3.10/dist-packages (from matplotlib>=2.1->-r requirements.txt (line 4)) (1.4.4)\n",
            "Requirement already satisfied: packaging>=20.0 in /usr/local/lib/python3.10/dist-packages (from matplotlib>=2.1->-r requirements.txt (line 4)) (23.1)\n",
            "Requirement already satisfied: pyparsing>=2.3.1 in /usr/local/lib/python3.10/dist-packages (from matplotlib>=2.1->-r requirements.txt (line 4)) (3.1.0)\n",
            "Requirement already satisfied: nibabel>=3.0.1 in /usr/local/lib/python3.10/dist-packages (from nltools>=0.4.7->-r requirements.txt (line 5)) (5.1.0)\n",
            "Requirement already satisfied: nilearn>=0.6.0 in /usr/local/lib/python3.10/dist-packages (from nltools>=0.4.7->-r requirements.txt (line 5)) (0.10.1)\n",
            "Requirement already satisfied: scipy in /usr/local/lib/python3.10/dist-packages (from nltools>=0.4.7->-r requirements.txt (line 5)) (1.10.1)\n",
            "Requirement already satisfied: pynv in /usr/local/lib/python3.10/dist-packages (from nltools>=0.4.7->-r requirements.txt (line 5)) (0.2)\n",
            "Requirement already satisfied: deepdish>=0.3.6 in /usr/local/lib/python3.10/dist-packages (from nltools>=0.4.7->-r requirements.txt (line 5)) (0.3.7)\n",
            "Requirement already satisfied: threadpoolctl>=2.0.0 in /usr/local/lib/python3.10/dist-packages (from scikit-learn>=1.0->-r requirements.txt (line 6)) (3.1.0)\n",
            "Requirement already satisfied: requests in /usr/local/lib/python3.10/dist-packages (from torchvision->-r requirements.txt (line 10)) (2.27.1)\n",
            "Requirement already satisfied: torch==2.0.1 in /usr/local/lib/python3.10/dist-packages (from torchvision->-r requirements.txt (line 10)) (2.0.1+cu118)\n",
            "Requirement already satisfied: filelock in /usr/local/lib/python3.10/dist-packages (from torch==2.0.1->torchvision->-r requirements.txt (line 10)) (3.12.2)\n",
            "Requirement already satisfied: typing-extensions in /usr/local/lib/python3.10/dist-packages (from torch==2.0.1->torchvision->-r requirements.txt (line 10)) (4.6.3)\n",
            "Requirement already satisfied: sympy in /usr/local/lib/python3.10/dist-packages (from torch==2.0.1->torchvision->-r requirements.txt (line 10)) (1.11.1)\n",
            "Requirement already satisfied: networkx in /usr/local/lib/python3.10/dist-packages (from torch==2.0.1->torchvision->-r requirements.txt (line 10)) (3.1)\n",
            "Requirement already satisfied: jinja2 in /usr/local/lib/python3.10/dist-packages (from torch==2.0.1->torchvision->-r requirements.txt (line 10)) (3.1.2)\n",
            "Requirement already satisfied: triton==2.0.0 in /usr/local/lib/python3.10/dist-packages (from torch==2.0.1->torchvision->-r requirements.txt (line 10)) (2.0.0)\n",
            "Requirement already satisfied: cmake in /usr/local/lib/python3.10/dist-packages (from triton==2.0.0->torch==2.0.1->torchvision->-r requirements.txt (line 10)) (3.25.2)\n",
            "Requirement already satisfied: lit in /usr/local/lib/python3.10/dist-packages (from triton==2.0.0->torch==2.0.1->torchvision->-r requirements.txt (line 10)) (16.0.6)\n",
            "Requirement already satisfied: imageio>=2.4.1 in /usr/local/lib/python3.10/dist-packages (from scikit-image>=0.19->-r requirements.txt (line 11)) (2.25.1)\n",
            "Requirement already satisfied: tifffile>=2019.7.26 in /usr/local/lib/python3.10/dist-packages (from scikit-image>=0.19->-r requirements.txt (line 11)) (2023.4.12)\n",
            "Requirement already satisfied: attrs>=19.2.0 in /usr/local/lib/python3.10/dist-packages (from pytest->-r requirements-dev.txt (line 2)) (23.1.0)\n",
            "Requirement already satisfied: iniconfig in /usr/local/lib/python3.10/dist-packages (from pytest->-r requirements-dev.txt (line 2)) (2.0.0)\n",
            "Requirement already satisfied: pluggy<2.0,>=0.12 in /usr/local/lib/python3.10/dist-packages (from pytest->-r requirements-dev.txt (line 2)) (1.2.0)\n",
            "Requirement already satisfied: exceptiongroup>=1.0.0rc8 in /usr/local/lib/python3.10/dist-packages (from pytest->-r requirements-dev.txt (line 2)) (1.1.1)\n",
            "Requirement already satisfied: coverage[toml]>=5.2.1 in /usr/local/lib/python3.10/dist-packages (from pytest-cov->-r requirements-dev.txt (line 3)) (6.5.0)\n",
            "Requirement already satisfied: docopt>=0.6.1 in /usr/local/lib/python3.10/dist-packages (from coveralls->-r requirements-dev.txt (line 4)) (0.6.2)\n",
            "Requirement already satisfied: sphinxcontrib-applehelp in /usr/local/lib/python3.10/dist-packages (from sphinx<6->-r requirements-dev.txt (line 7)) (1.0.4)\n",
            "Requirement already satisfied: sphinxcontrib-devhelp in /usr/local/lib/python3.10/dist-packages (from sphinx<6->-r requirements-dev.txt (line 7)) (1.0.2)\n",
            "Requirement already satisfied: sphinxcontrib-jsmath in /usr/local/lib/python3.10/dist-packages (from sphinx<6->-r requirements-dev.txt (line 7)) (1.0.1)\n",
            "Requirement already satisfied: sphinxcontrib-htmlhelp>=2.0.0 in /usr/local/lib/python3.10/dist-packages (from sphinx<6->-r requirements-dev.txt (line 7)) (2.0.1)\n",
            "Requirement already satisfied: sphinxcontrib-serializinghtml>=1.1.5 in /usr/local/lib/python3.10/dist-packages (from sphinx<6->-r requirements-dev.txt (line 7)) (1.1.5)\n",
            "Requirement already satisfied: sphinxcontrib-qthelp in /usr/local/lib/python3.10/dist-packages (from sphinx<6->-r requirements-dev.txt (line 7)) (1.0.3)\n",
            "Requirement already satisfied: Pygments>=2.0 in /usr/local/lib/python3.10/dist-packages (from sphinx<6->-r requirements-dev.txt (line 7)) (2.14.0)\n",
            "Requirement already satisfied: docutils<0.19,>=0.14 in /usr/local/lib/python3.10/dist-packages (from sphinx<6->-r requirements-dev.txt (line 7)) (0.16)\n",
            "Requirement already satisfied: snowballstemmer>=1.1 in /usr/local/lib/python3.10/dist-packages (from sphinx<6->-r requirements-dev.txt (line 7)) (2.2.0)\n",
            "Requirement already satisfied: babel>=1.3 in /usr/local/lib/python3.10/dist-packages (from sphinx<6->-r requirements-dev.txt (line 7)) (2.12.1)\n",
            "Requirement already satisfied: alabaster<0.8,>=0.7 in /usr/local/lib/python3.10/dist-packages (from sphinx<6->-r requirements-dev.txt (line 7)) (0.7.13)\n",
            "Requirement already satisfied: imagesize in /usr/local/lib/python3.10/dist-packages (from sphinx<6->-r requirements-dev.txt (line 7)) (1.4.1)\n",
            "Requirement already satisfied: sphinxcontrib-jquery<5,>=4 in /usr/local/lib/python3.10/dist-packages (from sphinx-rtd-theme->-r requirements-dev.txt (line 8)) (4.1)\n",
            "Requirement already satisfied: six>=1.5.2 in /usr/local/lib/python3.10/dist-packages (from sphinxcontrib-napoleon->-r requirements-dev.txt (line 9)) (1.16.0)\n",
            "Requirement already satisfied: pockets>=0.3 in /usr/local/lib/python3.10/dist-packages (from sphinxcontrib-napoleon->-r requirements-dev.txt (line 9)) (0.9.1)\n",
            "Requirement already satisfied: jsonschema<5 in /usr/local/lib/python3.10/dist-packages (from jupyter-book->-r requirements-dev.txt (line 10)) (4.3.3)\n",
            "Requirement already satisfied: linkify-it-py~=2.0.0 in /usr/local/lib/python3.10/dist-packages (from jupyter-book->-r requirements-dev.txt (line 10)) (2.0.2)\n",
            "Requirement already satisfied: myst-nb~=0.17.1 in /usr/local/lib/python3.10/dist-packages (from jupyter-book->-r requirements-dev.txt (line 10)) (0.17.2)\n",
            "Requirement already satisfied: pyyaml in /usr/local/lib/python3.10/dist-packages (from jupyter-book->-r requirements-dev.txt (line 10)) (6.0)\n",
            "Requirement already satisfied: sphinx-comments in /usr/local/lib/python3.10/dist-packages (from jupyter-book->-r requirements-dev.txt (line 10)) (0.0.3)\n",
            "Requirement already satisfied: sphinx-copybutton in /usr/local/lib/python3.10/dist-packages (from jupyter-book->-r requirements-dev.txt (line 10)) (0.5.2)\n",
            "Requirement already satisfied: sphinx-external-toc~=0.3.1 in /usr/local/lib/python3.10/dist-packages (from jupyter-book->-r requirements-dev.txt (line 10)) (0.3.1)\n",
            "Requirement already satisfied: sphinx-jupyterbook-latex~=0.5.2 in /usr/local/lib/python3.10/dist-packages (from jupyter-book->-r requirements-dev.txt (line 10)) (0.5.2)\n",
            "Requirement already satisfied: sphinx-design~=0.3.0 in /usr/local/lib/python3.10/dist-packages (from jupyter-book->-r requirements-dev.txt (line 10)) (0.3.0)\n",
            "Requirement already satisfied: sphinx-thebe~=0.2.0 in /usr/local/lib/python3.10/dist-packages (from jupyter-book->-r requirements-dev.txt (line 10)) (0.2.1)\n",
            "Requirement already satisfied: sphinx-book-theme~=1.0.0 in /usr/local/lib/python3.10/dist-packages (from jupyter-book->-r requirements-dev.txt (line 10)) (1.0.1)\n",
            "Requirement already satisfied: sphinx_togglebutton in /usr/local/lib/python3.10/dist-packages (from jupyter-book->-r requirements-dev.txt (line 10)) (0.3.2)\n",
            "Requirement already satisfied: sphinxcontrib-bibtex<=2.5.0,>=2.2.0 in /usr/local/lib/python3.10/dist-packages (from jupyter-book->-r requirements-dev.txt (line 10)) (2.5.0)\n",
            "Requirement already satisfied: sphinx-multitoc-numbering~=0.1.3 in /usr/local/lib/python3.10/dist-packages (from jupyter-book->-r requirements-dev.txt (line 10)) (0.1.3)\n",
            "Requirement already satisfied: tenacity>=6.2.0 in /usr/local/lib/python3.10/dist-packages (from plotly>=5.6.0->-r requirements-dev.txt (line 11)) (8.2.2)\n",
            "Requirement already satisfied: tables in /usr/local/lib/python3.10/dist-packages (from deepdish>=0.3.6->nltools>=0.4.7->-r requirements.txt (line 5)) (3.8.0)\n",
            "Requirement already satisfied: MarkupSafe>=2.0 in /usr/local/lib/python3.10/dist-packages (from jinja2->torch==2.0.1->torchvision->-r requirements.txt (line 10)) (2.1.3)\n",
            "Requirement already satisfied: pyrsistent!=0.17.0,!=0.17.1,!=0.17.2,>=0.14.0 in /usr/local/lib/python3.10/dist-packages (from jsonschema<5->jupyter-book->-r requirements-dev.txt (line 10)) (0.19.3)\n",
            "Requirement already satisfied: uc-micro-py in /usr/local/lib/python3.10/dist-packages (from linkify-it-py~=2.0.0->jupyter-book->-r requirements-dev.txt (line 10)) (1.0.2)\n",
            "Requirement already satisfied: importlib_metadata in /usr/local/lib/python3.10/dist-packages (from myst-nb~=0.17.1->jupyter-book->-r requirements-dev.txt (line 10)) (6.8.0)\n",
            "Requirement already satisfied: ipython in /usr/local/lib/python3.10/dist-packages (from myst-nb~=0.17.1->jupyter-book->-r requirements-dev.txt (line 10)) (7.34.0)\n",
            "Requirement already satisfied: jupyter-cache<0.7,>=0.5 in /usr/local/lib/python3.10/dist-packages (from myst-nb~=0.17.1->jupyter-book->-r requirements-dev.txt (line 10)) (0.6.1)\n",
            "Requirement already satisfied: nbclient in /usr/local/lib/python3.10/dist-packages (from myst-nb~=0.17.1->jupyter-book->-r requirements-dev.txt (line 10)) (0.7.4)\n",
            "Requirement already satisfied: myst-parser~=0.18.0 in /usr/local/lib/python3.10/dist-packages (from myst-nb~=0.17.1->jupyter-book->-r requirements-dev.txt (line 10)) (0.18.1)\n",
            "Requirement already satisfied: nbformat~=5.0 in /usr/local/lib/python3.10/dist-packages (from myst-nb~=0.17.1->jupyter-book->-r requirements-dev.txt (line 10)) (5.9.0)\n",
            "Requirement already satisfied: ipykernel in /usr/local/lib/python3.10/dist-packages (from myst-nb~=0.17.1->jupyter-book->-r requirements-dev.txt (line 10)) (5.5.6)\n",
            "Requirement already satisfied: lxml in /usr/local/lib/python3.10/dist-packages (from nilearn>=0.6.0->nltools>=0.4.7->-r requirements.txt (line 5)) (4.9.2)\n",
            "Requirement already satisfied: urllib3<1.27,>=1.21.1 in /usr/local/lib/python3.10/dist-packages (from requests->torchvision->-r requirements.txt (line 10)) (1.26.16)\n",
            "Requirement already satisfied: certifi>=2017.4.17 in /usr/local/lib/python3.10/dist-packages (from requests->torchvision->-r requirements.txt (line 10)) (2023.5.7)\n",
            "Requirement already satisfied: charset-normalizer~=2.0.0 in /usr/local/lib/python3.10/dist-packages (from requests->torchvision->-r requirements.txt (line 10)) (2.0.12)\n",
            "Requirement already satisfied: idna<4,>=2.5 in /usr/local/lib/python3.10/dist-packages (from requests->torchvision->-r requirements.txt (line 10)) (3.4)\n",
            "Requirement already satisfied: pydata-sphinx-theme>=0.13.3 in /usr/local/lib/python3.10/dist-packages (from sphinx-book-theme~=1.0.0->jupyter-book->-r requirements-dev.txt (line 10)) (0.13.3)\n",
            "Requirement already satisfied: pybtex>=0.24 in /usr/local/lib/python3.10/dist-packages (from sphinxcontrib-bibtex<=2.5.0,>=2.2.0->jupyter-book->-r requirements-dev.txt (line 10)) (0.24.0)\n",
            "Requirement already satisfied: pybtex-docutils>=1.0.0 in /usr/local/lib/python3.10/dist-packages (from sphinxcontrib-bibtex<=2.5.0,>=2.2.0->jupyter-book->-r requirements-dev.txt (line 10)) (1.0.2)\n",
            "Requirement already satisfied: setuptools in /usr/local/lib/python3.10/dist-packages (from sphinx_togglebutton->jupyter-book->-r requirements-dev.txt (line 10)) (67.7.2)\n",
            "Requirement already satisfied: wheel in /usr/local/lib/python3.10/dist-packages (from sphinx_togglebutton->jupyter-book->-r requirements-dev.txt (line 10)) (0.40.0)\n",
            "Requirement already satisfied: sqlalchemy<3,>=1.3.12 in /usr/local/lib/python3.10/dist-packages (from jupyter-cache<0.7,>=0.5->myst-nb~=0.17.1->jupyter-book->-r requirements-dev.txt (line 10)) (2.0.16)\n",
            "Requirement already satisfied: tabulate in /usr/local/lib/python3.10/dist-packages (from jupyter-cache<0.7,>=0.5->myst-nb~=0.17.1->jupyter-book->-r requirements-dev.txt (line 10)) (0.8.10)\n",
            "Requirement already satisfied: markdown-it-py<3.0.0,>=1.0.0 in /usr/local/lib/python3.10/dist-packages (from myst-parser~=0.18.0->myst-nb~=0.17.1->jupyter-book->-r requirements-dev.txt (line 10)) (2.2.0)\n",
            "Requirement already satisfied: mdit-py-plugins~=0.3.1 in /usr/local/lib/python3.10/dist-packages (from myst-parser~=0.18.0->myst-nb~=0.17.1->jupyter-book->-r requirements-dev.txt (line 10)) (0.3.5)\n",
            "Requirement already satisfied: jupyter-client>=6.1.12 in /usr/local/lib/python3.10/dist-packages (from nbclient->myst-nb~=0.17.1->jupyter-book->-r requirements-dev.txt (line 10)) (6.1.12)\n",
            "Requirement already satisfied: jupyter-core!=5.0.*,>=4.12 in /usr/local/lib/python3.10/dist-packages (from nbclient->myst-nb~=0.17.1->jupyter-book->-r requirements-dev.txt (line 10)) (5.3.1)\n",
            "Requirement already satisfied: traitlets>=5.3 in /usr/local/lib/python3.10/dist-packages (from nbclient->myst-nb~=0.17.1->jupyter-book->-r requirements-dev.txt (line 10)) (5.7.1)\n",
            "Requirement already satisfied: fastjsonschema in /usr/local/lib/python3.10/dist-packages (from nbformat~=5.0->myst-nb~=0.17.1->jupyter-book->-r requirements-dev.txt (line 10)) (2.17.1)\n",
            "Requirement already satisfied: latexcodec>=1.0.4 in /usr/local/lib/python3.10/dist-packages (from pybtex>=0.24->sphinxcontrib-bibtex<=2.5.0,>=2.2.0->jupyter-book->-r requirements-dev.txt (line 10)) (2.0.1)\n",
            "Requirement already satisfied: beautifulsoup4 in /usr/local/lib/python3.10/dist-packages (from pydata-sphinx-theme>=0.13.3->sphinx-book-theme~=1.0.0->jupyter-book->-r requirements-dev.txt (line 10)) (4.11.2)\n",
            "Requirement already satisfied: accessible-pygments in /usr/local/lib/python3.10/dist-packages (from pydata-sphinx-theme>=0.13.3->sphinx-book-theme~=1.0.0->jupyter-book->-r requirements-dev.txt (line 10)) (0.0.4)\n",
            "Requirement already satisfied: zipp>=0.5 in /usr/local/lib/python3.10/dist-packages (from importlib_metadata->myst-nb~=0.17.1->jupyter-book->-r requirements-dev.txt (line 10)) (3.15.0)\n",
            "Requirement already satisfied: ipython-genutils in /usr/local/lib/python3.10/dist-packages (from ipykernel->myst-nb~=0.17.1->jupyter-book->-r requirements-dev.txt (line 10)) (0.2.0)\n",
            "Requirement already satisfied: tornado>=4.2 in /usr/local/lib/python3.10/dist-packages (from ipykernel->myst-nb~=0.17.1->jupyter-book->-r requirements-dev.txt (line 10)) (6.3.1)\n",
            "Requirement already satisfied: jedi>=0.16 in /usr/local/lib/python3.10/dist-packages (from ipython->myst-nb~=0.17.1->jupyter-book->-r requirements-dev.txt (line 10)) (0.18.2)\n",
            "Requirement already satisfied: decorator in /usr/local/lib/python3.10/dist-packages (from ipython->myst-nb~=0.17.1->jupyter-book->-r requirements-dev.txt (line 10)) (4.4.2)\n",
            "Requirement already satisfied: pickleshare in /usr/local/lib/python3.10/dist-packages (from ipython->myst-nb~=0.17.1->jupyter-book->-r requirements-dev.txt (line 10)) (0.7.5)\n",
            "Requirement already satisfied: prompt-toolkit!=3.0.0,!=3.0.1,<3.1.0,>=2.0.0 in /usr/local/lib/python3.10/dist-packages (from ipython->myst-nb~=0.17.1->jupyter-book->-r requirements-dev.txt (line 10)) (3.0.38)\n",
            "Requirement already satisfied: backcall in /usr/local/lib/python3.10/dist-packages (from ipython->myst-nb~=0.17.1->jupyter-book->-r requirements-dev.txt (line 10)) (0.2.0)\n",
            "Requirement already satisfied: matplotlib-inline in /usr/local/lib/python3.10/dist-packages (from ipython->myst-nb~=0.17.1->jupyter-book->-r requirements-dev.txt (line 10)) (0.1.6)\n",
            "Requirement already satisfied: pexpect>4.3 in /usr/local/lib/python3.10/dist-packages (from ipython->myst-nb~=0.17.1->jupyter-book->-r requirements-dev.txt (line 10)) (4.8.0)\n",
            "Requirement already satisfied: mpmath>=0.19 in /usr/local/lib/python3.10/dist-packages (from sympy->torch==2.0.1->torchvision->-r requirements.txt (line 10)) (1.3.0)\n",
            "Requirement already satisfied: cython>=0.29.21 in /usr/local/lib/python3.10/dist-packages (from tables->deepdish>=0.3.6->nltools>=0.4.7->-r requirements.txt (line 5)) (0.29.35)\n",
            "Requirement already satisfied: numexpr>=2.6.2 in /usr/local/lib/python3.10/dist-packages (from tables->deepdish>=0.3.6->nltools>=0.4.7->-r requirements.txt (line 5)) (2.8.4)\n",
            "Requirement already satisfied: blosc2~=2.0.0 in /usr/local/lib/python3.10/dist-packages (from tables->deepdish>=0.3.6->nltools>=0.4.7->-r requirements.txt (line 5)) (2.0.0)\n",
            "Requirement already satisfied: py-cpuinfo in /usr/local/lib/python3.10/dist-packages (from tables->deepdish>=0.3.6->nltools>=0.4.7->-r requirements.txt (line 5)) (9.0.0)\n",
            "Requirement already satisfied: msgpack in /usr/local/lib/python3.10/dist-packages (from blosc2~=2.0.0->tables->deepdish>=0.3.6->nltools>=0.4.7->-r requirements.txt (line 5)) (1.0.5)\n",
            "Requirement already satisfied: parso<0.9.0,>=0.8.0 in /usr/local/lib/python3.10/dist-packages (from jedi>=0.16->ipython->myst-nb~=0.17.1->jupyter-book->-r requirements-dev.txt (line 10)) (0.8.3)\n",
            "Requirement already satisfied: pyzmq>=13 in /usr/local/lib/python3.10/dist-packages (from jupyter-client>=6.1.12->nbclient->myst-nb~=0.17.1->jupyter-book->-r requirements-dev.txt (line 10)) (23.2.1)\n",
            "Requirement already satisfied: mdurl~=0.1 in /usr/local/lib/python3.10/dist-packages (from markdown-it-py<3.0.0,>=1.0.0->myst-parser~=0.18.0->myst-nb~=0.17.1->jupyter-book->-r requirements-dev.txt (line 10)) (0.1.2)\n",
            "Requirement already satisfied: ptyprocess>=0.5 in /usr/local/lib/python3.10/dist-packages (from pexpect>4.3->ipython->myst-nb~=0.17.1->jupyter-book->-r requirements-dev.txt (line 10)) (0.7.0)\n",
            "Requirement already satisfied: wcwidth in /usr/local/lib/python3.10/dist-packages (from prompt-toolkit!=3.0.0,!=3.0.1,<3.1.0,>=2.0.0->ipython->myst-nb~=0.17.1->jupyter-book->-r requirements-dev.txt (line 10)) (0.2.6)\n",
            "Requirement already satisfied: greenlet!=0.4.17 in /usr/local/lib/python3.10/dist-packages (from sqlalchemy<3,>=1.3.12->jupyter-cache<0.7,>=0.5->myst-nb~=0.17.1->jupyter-book->-r requirements-dev.txt (line 10)) (2.0.2)\n",
            "Requirement already satisfied: soupsieve>1.2 in /usr/local/lib/python3.10/dist-packages (from beautifulsoup4->pydata-sphinx-theme>=0.13.3->sphinx-book-theme~=1.0.0->jupyter-book->-r requirements-dev.txt (line 10)) (2.4.1)\n"
          ]
        }
      ]
    },
    {
      "cell_type": "code",
      "source": [
        "pip install setup.py"
      ],
      "metadata": {
        "colab": {
          "base_uri": "https://localhost:8080/"
        },
        "id": "aHYNLIKgm9Bp",
        "outputId": "f1fd971c-b6cc-49da-dbb9-8aecc26696c8"
      },
      "execution_count": 60,
      "outputs": [
        {
          "output_type": "stream",
          "name": "stdout",
          "text": [
            "\u001b[31mERROR: Could not find a version that satisfies the requirement setup.py (from versions: none)\u001b[0m\u001b[31m\n",
            "\u001b[0m\u001b[31mERROR: No matching distribution found for setup.py\u001b[0m\u001b[31m\n",
            "\u001b[0m"
          ]
        }
      ]
    },
    {
      "cell_type": "code",
      "source": [
        "pip install  py-feat"
      ],
      "metadata": {
        "id": "tSLky8vNDG9f",
        "colab": {
          "base_uri": "https://localhost:8080/"
        },
        "outputId": "d82b4e57-192b-43ad-e64c-c96d4dc3eb16"
      },
      "execution_count": 61,
      "outputs": [
        {
          "output_type": "stream",
          "name": "stdout",
          "text": [
            "Requirement already satisfied: py-feat in /usr/local/lib/python3.10/dist-packages (0.5.1)\n",
            "Requirement already satisfied: pandas>=1.0 in /usr/local/lib/python3.10/dist-packages (from py-feat) (1.5.3)\n",
            "Requirement already satisfied: numpy>=1.9 in /usr/local/lib/python3.10/dist-packages (from py-feat) (1.22.4)\n",
            "Requirement already satisfied: seaborn>=0.7.0 in /usr/local/lib/python3.10/dist-packages (from py-feat) (0.12.2)\n",
            "Requirement already satisfied: matplotlib>=2.1 in /usr/local/lib/python3.10/dist-packages (from py-feat) (3.7.1)\n",
            "Requirement already satisfied: nltools>=0.4.7 in /usr/local/lib/python3.10/dist-packages (from py-feat) (0.4.7)\n",
            "Requirement already satisfied: scikit-learn>=1.0 in /usr/local/lib/python3.10/dist-packages (from py-feat) (1.2.2)\n",
            "Requirement already satisfied: pywavelets>=0.3.0 in /usr/local/lib/python3.10/dist-packages (from py-feat) (1.4.1)\n",
            "Requirement already satisfied: h5py>=2.7.0 in /usr/local/lib/python3.10/dist-packages (from py-feat) (3.8.0)\n",
            "Requirement already satisfied: Pillow>=6.0.0 in /usr/local/lib/python3.10/dist-packages (from py-feat) (8.4.0)\n",
            "Requirement already satisfied: torchvision in /usr/local/lib/python3.10/dist-packages (from py-feat) (0.15.2+cu118)\n",
            "Requirement already satisfied: scikit-image>=0.19 in /usr/local/lib/python3.10/dist-packages (from py-feat) (0.19.3)\n",
            "Requirement already satisfied: joblib in /usr/local/lib/python3.10/dist-packages (from py-feat) (1.2.0)\n",
            "Requirement already satisfied: easing-functions in /usr/local/lib/python3.10/dist-packages (from py-feat) (1.0.4)\n",
            "Requirement already satisfied: celluloid in /usr/local/lib/python3.10/dist-packages (from py-feat) (0.2.0)\n",
            "Requirement already satisfied: tqdm in /usr/local/lib/python3.10/dist-packages (from py-feat) (4.65.0)\n",
            "Requirement already satisfied: kornia in /usr/local/lib/python3.10/dist-packages (from py-feat) (0.6.12)\n",
            "Requirement already satisfied: av>=9.2.0 in /usr/local/lib/python3.10/dist-packages (from py-feat) (10.0.0)\n",
            "Requirement already satisfied: xgboost>=1.6.0 in /usr/local/lib/python3.10/dist-packages (from py-feat) (1.7.6)\n",
            "Requirement already satisfied: contourpy>=1.0.1 in /usr/local/lib/python3.10/dist-packages (from matplotlib>=2.1->py-feat) (1.1.0)\n",
            "Requirement already satisfied: cycler>=0.10 in /usr/local/lib/python3.10/dist-packages (from matplotlib>=2.1->py-feat) (0.11.0)\n",
            "Requirement already satisfied: fonttools>=4.22.0 in /usr/local/lib/python3.10/dist-packages (from matplotlib>=2.1->py-feat) (4.40.0)\n",
            "Requirement already satisfied: kiwisolver>=1.0.1 in /usr/local/lib/python3.10/dist-packages (from matplotlib>=2.1->py-feat) (1.4.4)\n",
            "Requirement already satisfied: packaging>=20.0 in /usr/local/lib/python3.10/dist-packages (from matplotlib>=2.1->py-feat) (23.1)\n",
            "Requirement already satisfied: pyparsing>=2.3.1 in /usr/local/lib/python3.10/dist-packages (from matplotlib>=2.1->py-feat) (3.1.0)\n",
            "Requirement already satisfied: python-dateutil>=2.7 in /usr/local/lib/python3.10/dist-packages (from matplotlib>=2.1->py-feat) (2.8.2)\n",
            "Requirement already satisfied: nibabel>=3.0.1 in /usr/local/lib/python3.10/dist-packages (from nltools>=0.4.7->py-feat) (5.1.0)\n",
            "Requirement already satisfied: nilearn>=0.6.0 in /usr/local/lib/python3.10/dist-packages (from nltools>=0.4.7->py-feat) (0.10.1)\n",
            "Requirement already satisfied: scipy in /usr/local/lib/python3.10/dist-packages (from nltools>=0.4.7->py-feat) (1.10.1)\n",
            "Requirement already satisfied: pynv in /usr/local/lib/python3.10/dist-packages (from nltools>=0.4.7->py-feat) (0.2)\n",
            "Requirement already satisfied: deepdish>=0.3.6 in /usr/local/lib/python3.10/dist-packages (from nltools>=0.4.7->py-feat) (0.3.7)\n",
            "Requirement already satisfied: pytz>=2020.1 in /usr/local/lib/python3.10/dist-packages (from pandas>=1.0->py-feat) (2022.7.1)\n",
            "Requirement already satisfied: networkx>=2.2 in /usr/local/lib/python3.10/dist-packages (from scikit-image>=0.19->py-feat) (3.1)\n",
            "Requirement already satisfied: imageio>=2.4.1 in /usr/local/lib/python3.10/dist-packages (from scikit-image>=0.19->py-feat) (2.25.1)\n",
            "Requirement already satisfied: tifffile>=2019.7.26 in /usr/local/lib/python3.10/dist-packages (from scikit-image>=0.19->py-feat) (2023.4.12)\n",
            "Requirement already satisfied: threadpoolctl>=2.0.0 in /usr/local/lib/python3.10/dist-packages (from scikit-learn>=1.0->py-feat) (3.1.0)\n",
            "Requirement already satisfied: torch>=1.9.1 in /usr/local/lib/python3.10/dist-packages (from kornia->py-feat) (2.0.1+cu118)\n",
            "Requirement already satisfied: requests in /usr/local/lib/python3.10/dist-packages (from torchvision->py-feat) (2.27.1)\n",
            "Requirement already satisfied: filelock in /usr/local/lib/python3.10/dist-packages (from torch>=1.9.1->kornia->py-feat) (3.12.2)\n",
            "Requirement already satisfied: typing-extensions in /usr/local/lib/python3.10/dist-packages (from torch>=1.9.1->kornia->py-feat) (4.6.3)\n",
            "Requirement already satisfied: sympy in /usr/local/lib/python3.10/dist-packages (from torch>=1.9.1->kornia->py-feat) (1.11.1)\n",
            "Requirement already satisfied: jinja2 in /usr/local/lib/python3.10/dist-packages (from torch>=1.9.1->kornia->py-feat) (3.1.2)\n",
            "Requirement already satisfied: triton==2.0.0 in /usr/local/lib/python3.10/dist-packages (from torch>=1.9.1->kornia->py-feat) (2.0.0)\n",
            "Requirement already satisfied: cmake in /usr/local/lib/python3.10/dist-packages (from triton==2.0.0->torch>=1.9.1->kornia->py-feat) (3.25.2)\n",
            "Requirement already satisfied: lit in /usr/local/lib/python3.10/dist-packages (from triton==2.0.0->torch>=1.9.1->kornia->py-feat) (16.0.6)\n",
            "Requirement already satisfied: tables in /usr/local/lib/python3.10/dist-packages (from deepdish>=0.3.6->nltools>=0.4.7->py-feat) (3.8.0)\n",
            "Requirement already satisfied: lxml in /usr/local/lib/python3.10/dist-packages (from nilearn>=0.6.0->nltools>=0.4.7->py-feat) (4.9.2)\n",
            "Requirement already satisfied: six>=1.5 in /usr/local/lib/python3.10/dist-packages (from python-dateutil>=2.7->matplotlib>=2.1->py-feat) (1.16.0)\n",
            "Requirement already satisfied: urllib3<1.27,>=1.21.1 in /usr/local/lib/python3.10/dist-packages (from requests->torchvision->py-feat) (1.26.16)\n",
            "Requirement already satisfied: certifi>=2017.4.17 in /usr/local/lib/python3.10/dist-packages (from requests->torchvision->py-feat) (2023.5.7)\n",
            "Requirement already satisfied: charset-normalizer~=2.0.0 in /usr/local/lib/python3.10/dist-packages (from requests->torchvision->py-feat) (2.0.12)\n",
            "Requirement already satisfied: idna<4,>=2.5 in /usr/local/lib/python3.10/dist-packages (from requests->torchvision->py-feat) (3.4)\n",
            "Requirement already satisfied: MarkupSafe>=2.0 in /usr/local/lib/python3.10/dist-packages (from jinja2->torch>=1.9.1->kornia->py-feat) (2.1.3)\n",
            "Requirement already satisfied: mpmath>=0.19 in /usr/local/lib/python3.10/dist-packages (from sympy->torch>=1.9.1->kornia->py-feat) (1.3.0)\n",
            "Requirement already satisfied: cython>=0.29.21 in /usr/local/lib/python3.10/dist-packages (from tables->deepdish>=0.3.6->nltools>=0.4.7->py-feat) (0.29.35)\n",
            "Requirement already satisfied: numexpr>=2.6.2 in /usr/local/lib/python3.10/dist-packages (from tables->deepdish>=0.3.6->nltools>=0.4.7->py-feat) (2.8.4)\n",
            "Requirement already satisfied: blosc2~=2.0.0 in /usr/local/lib/python3.10/dist-packages (from tables->deepdish>=0.3.6->nltools>=0.4.7->py-feat) (2.0.0)\n",
            "Requirement already satisfied: py-cpuinfo in /usr/local/lib/python3.10/dist-packages (from tables->deepdish>=0.3.6->nltools>=0.4.7->py-feat) (9.0.0)\n",
            "Requirement already satisfied: msgpack in /usr/local/lib/python3.10/dist-packages (from blosc2~=2.0.0->tables->deepdish>=0.3.6->nltools>=0.4.7->py-feat) (1.0.5)\n"
          ]
        }
      ]
    },
    {
      "cell_type": "code",
      "source": [
        "pip install matplotlib"
      ],
      "metadata": {
        "colab": {
          "base_uri": "https://localhost:8080/"
        },
        "id": "COnXGhTNFY6Q",
        "outputId": "56775756-e36e-4b1c-a99a-5129f8a34c2d"
      },
      "execution_count": 62,
      "outputs": [
        {
          "output_type": "stream",
          "name": "stdout",
          "text": [
            "Requirement already satisfied: matplotlib in /usr/local/lib/python3.10/dist-packages (3.7.1)\n",
            "Requirement already satisfied: contourpy>=1.0.1 in /usr/local/lib/python3.10/dist-packages (from matplotlib) (1.1.0)\n",
            "Requirement already satisfied: cycler>=0.10 in /usr/local/lib/python3.10/dist-packages (from matplotlib) (0.11.0)\n",
            "Requirement already satisfied: fonttools>=4.22.0 in /usr/local/lib/python3.10/dist-packages (from matplotlib) (4.40.0)\n",
            "Requirement already satisfied: kiwisolver>=1.0.1 in /usr/local/lib/python3.10/dist-packages (from matplotlib) (1.4.4)\n",
            "Requirement already satisfied: numpy>=1.20 in /usr/local/lib/python3.10/dist-packages (from matplotlib) (1.22.4)\n",
            "Requirement already satisfied: packaging>=20.0 in /usr/local/lib/python3.10/dist-packages (from matplotlib) (23.1)\n",
            "Requirement already satisfied: pillow>=6.2.0 in /usr/local/lib/python3.10/dist-packages (from matplotlib) (8.4.0)\n",
            "Requirement already satisfied: pyparsing>=2.3.1 in /usr/local/lib/python3.10/dist-packages (from matplotlib) (3.1.0)\n",
            "Requirement already satisfied: python-dateutil>=2.7 in /usr/local/lib/python3.10/dist-packages (from matplotlib) (2.8.2)\n",
            "Requirement already satisfied: six>=1.5 in /usr/local/lib/python3.10/dist-packages (from python-dateutil>=2.7->matplotlib) (1.16.0)\n"
          ]
        }
      ]
    },
    {
      "cell_type": "markdown",
      "source": [
        "# Step 1: Setup Chunk\n",
        " Step 1.1: Install dependencies"
      ],
      "metadata": {
        "id": "JpIXslFd5LmH"
      }
    },
    {
      "cell_type": "code",
      "execution_count": 63,
      "metadata": {
        "id": "sd52QKo4EOBv",
        "colab": {
          "base_uri": "https://localhost:8080/"
        },
        "outputId": "78f710db-4ab3-4643-f5f7-7cf367fbf34c"
      },
      "outputs": [
        {
          "output_type": "stream",
          "name": "stdout",
          "text": [
            "Requirement already satisfied: streamlit in /usr/local/lib/python3.10/dist-packages (1.24.1)\n",
            "Requirement already satisfied: altair<6,>=4.0 in /usr/local/lib/python3.10/dist-packages (from streamlit) (4.2.2)\n",
            "Requirement already satisfied: blinker<2,>=1.0.0 in /usr/local/lib/python3.10/dist-packages (from streamlit) (1.6.2)\n",
            "Requirement already satisfied: cachetools<6,>=4.0 in /usr/local/lib/python3.10/dist-packages (from streamlit) (5.3.1)\n",
            "Requirement already satisfied: click<9,>=7.0 in /usr/local/lib/python3.10/dist-packages (from streamlit) (8.1.3)\n",
            "Requirement already satisfied: importlib-metadata<7,>=1.4 in /usr/local/lib/python3.10/dist-packages (from streamlit) (6.8.0)\n",
            "Requirement already satisfied: numpy<2,>=1 in /usr/local/lib/python3.10/dist-packages (from streamlit) (1.22.4)\n",
            "Requirement already satisfied: packaging<24,>=14.1 in /usr/local/lib/python3.10/dist-packages (from streamlit) (23.1)\n",
            "Requirement already satisfied: pandas<3,>=0.25 in /usr/local/lib/python3.10/dist-packages (from streamlit) (1.5.3)\n",
            "Requirement already satisfied: pillow<10,>=6.2.0 in /usr/local/lib/python3.10/dist-packages (from streamlit) (8.4.0)\n",
            "Requirement already satisfied: protobuf<5,>=3.20 in /usr/local/lib/python3.10/dist-packages (from streamlit) (3.20.3)\n",
            "Requirement already satisfied: pyarrow>=4.0 in /usr/local/lib/python3.10/dist-packages (from streamlit) (9.0.0)\n",
            "Requirement already satisfied: pympler<2,>=0.9 in /usr/local/lib/python3.10/dist-packages (from streamlit) (1.0.1)\n",
            "Requirement already satisfied: python-dateutil<3,>=2 in /usr/local/lib/python3.10/dist-packages (from streamlit) (2.8.2)\n",
            "Requirement already satisfied: requests<3,>=2.4 in /usr/local/lib/python3.10/dist-packages (from streamlit) (2.27.1)\n",
            "Requirement already satisfied: rich<14,>=10.11.0 in /usr/local/lib/python3.10/dist-packages (from streamlit) (13.4.2)\n",
            "Requirement already satisfied: tenacity<9,>=8.0.0 in /usr/local/lib/python3.10/dist-packages (from streamlit) (8.2.2)\n",
            "Requirement already satisfied: toml<2 in /usr/local/lib/python3.10/dist-packages (from streamlit) (0.10.2)\n",
            "Requirement already satisfied: typing-extensions<5,>=4.0.1 in /usr/local/lib/python3.10/dist-packages (from streamlit) (4.6.3)\n",
            "Requirement already satisfied: tzlocal<5,>=1.1 in /usr/local/lib/python3.10/dist-packages (from streamlit) (4.3.1)\n",
            "Requirement already satisfied: validators<1,>=0.2 in /usr/local/lib/python3.10/dist-packages (from streamlit) (0.20.0)\n",
            "Requirement already satisfied: gitpython!=3.1.19,<4,>=3 in /usr/local/lib/python3.10/dist-packages (from streamlit) (3.1.31)\n",
            "Requirement already satisfied: pydeck<1,>=0.1.dev5 in /usr/local/lib/python3.10/dist-packages (from streamlit) (0.8.1b0)\n",
            "Requirement already satisfied: tornado<7,>=6.0.3 in /usr/local/lib/python3.10/dist-packages (from streamlit) (6.3.1)\n",
            "Requirement already satisfied: watchdog in /usr/local/lib/python3.10/dist-packages (from streamlit) (3.0.0)\n",
            "Requirement already satisfied: entrypoints in /usr/local/lib/python3.10/dist-packages (from altair<6,>=4.0->streamlit) (0.4)\n",
            "Requirement already satisfied: jinja2 in /usr/local/lib/python3.10/dist-packages (from altair<6,>=4.0->streamlit) (3.1.2)\n",
            "Requirement already satisfied: jsonschema>=3.0 in /usr/local/lib/python3.10/dist-packages (from altair<6,>=4.0->streamlit) (4.3.3)\n",
            "Requirement already satisfied: toolz in /usr/local/lib/python3.10/dist-packages (from altair<6,>=4.0->streamlit) (0.12.0)\n",
            "Requirement already satisfied: gitdb<5,>=4.0.1 in /usr/local/lib/python3.10/dist-packages (from gitpython!=3.1.19,<4,>=3->streamlit) (4.0.10)\n",
            "Requirement already satisfied: zipp>=0.5 in /usr/local/lib/python3.10/dist-packages (from importlib-metadata<7,>=1.4->streamlit) (3.15.0)\n",
            "Requirement already satisfied: pytz>=2020.1 in /usr/local/lib/python3.10/dist-packages (from pandas<3,>=0.25->streamlit) (2022.7.1)\n",
            "Requirement already satisfied: six>=1.5 in /usr/local/lib/python3.10/dist-packages (from python-dateutil<3,>=2->streamlit) (1.16.0)\n",
            "Requirement already satisfied: urllib3<1.27,>=1.21.1 in /usr/local/lib/python3.10/dist-packages (from requests<3,>=2.4->streamlit) (1.26.16)\n",
            "Requirement already satisfied: certifi>=2017.4.17 in /usr/local/lib/python3.10/dist-packages (from requests<3,>=2.4->streamlit) (2023.5.7)\n",
            "Requirement already satisfied: charset-normalizer~=2.0.0 in /usr/local/lib/python3.10/dist-packages (from requests<3,>=2.4->streamlit) (2.0.12)\n",
            "Requirement already satisfied: idna<4,>=2.5 in /usr/local/lib/python3.10/dist-packages (from requests<3,>=2.4->streamlit) (3.4)\n",
            "Requirement already satisfied: markdown-it-py>=2.2.0 in /usr/local/lib/python3.10/dist-packages (from rich<14,>=10.11.0->streamlit) (2.2.0)\n",
            "Requirement already satisfied: pygments<3.0.0,>=2.13.0 in /usr/local/lib/python3.10/dist-packages (from rich<14,>=10.11.0->streamlit) (2.14.0)\n",
            "Requirement already satisfied: pytz-deprecation-shim in /usr/local/lib/python3.10/dist-packages (from tzlocal<5,>=1.1->streamlit) (0.1.0.post0)\n",
            "Requirement already satisfied: decorator>=3.4.0 in /usr/local/lib/python3.10/dist-packages (from validators<1,>=0.2->streamlit) (4.4.2)\n",
            "Requirement already satisfied: smmap<6,>=3.0.1 in /usr/local/lib/python3.10/dist-packages (from gitdb<5,>=4.0.1->gitpython!=3.1.19,<4,>=3->streamlit) (5.0.0)\n",
            "Requirement already satisfied: MarkupSafe>=2.0 in /usr/local/lib/python3.10/dist-packages (from jinja2->altair<6,>=4.0->streamlit) (2.1.3)\n",
            "Requirement already satisfied: attrs>=17.4.0 in /usr/local/lib/python3.10/dist-packages (from jsonschema>=3.0->altair<6,>=4.0->streamlit) (23.1.0)\n",
            "Requirement already satisfied: pyrsistent!=0.17.0,!=0.17.1,!=0.17.2,>=0.14.0 in /usr/local/lib/python3.10/dist-packages (from jsonschema>=3.0->altair<6,>=4.0->streamlit) (0.19.3)\n",
            "Requirement already satisfied: mdurl~=0.1 in /usr/local/lib/python3.10/dist-packages (from markdown-it-py>=2.2.0->rich<14,>=10.11.0->streamlit) (0.1.2)\n",
            "Requirement already satisfied: tzdata in /usr/local/lib/python3.10/dist-packages (from pytz-deprecation-shim->tzlocal<5,>=1.1->streamlit) (2023.3)\n"
          ]
        }
      ],
      "source": [
        "!pip install streamlit\n"
      ]
    },
    {
      "cell_type": "code",
      "source": [
        "pip install pyngrok\n"
      ],
      "metadata": {
        "id": "7-ev9ZovFwnT",
        "colab": {
          "base_uri": "https://localhost:8080/"
        },
        "outputId": "f0ffbf7e-dbd3-4cb1-c8ff-d5abed0534fd"
      },
      "execution_count": 64,
      "outputs": [
        {
          "output_type": "stream",
          "name": "stdout",
          "text": [
            "Requirement already satisfied: pyngrok in /usr/local/lib/python3.10/dist-packages (4.1.1)\n",
            "Requirement already satisfied: future in /usr/local/lib/python3.10/dist-packages (from pyngrok) (0.18.3)\n",
            "Requirement already satisfied: PyYAML in /usr/local/lib/python3.10/dist-packages (from pyngrok) (6.0)\n"
          ]
        }
      ]
    },
    {
      "cell_type": "markdown",
      "source": [
        "Step 1.2: Replace XXXXXX with your ngrok token"
      ],
      "metadata": {
        "id": "MthwIzBj5dUg"
      }
    },
    {
      "cell_type": "code",
      "source": [
        "#Replace the xxxx with authtoken\n",
        "!ngrok authtoken 2RdaFL2BBdIi9sVDUb2sJX2Kzbq_83JxMGDVAjNACaFVUL6ks"
      ],
      "metadata": {
        "id": "HqzPwjAVF9hC",
        "colab": {
          "base_uri": "https://localhost:8080/"
        },
        "outputId": "be54394f-3da5-4b83-8047-dcf34d08c104"
      },
      "execution_count": 65,
      "outputs": [
        {
          "output_type": "stream",
          "name": "stdout",
          "text": [
            "Authtoken saved to configuration file: /root/.ngrok2/ngrok.yml\n"
          ]
        }
      ]
    },
    {
      "cell_type": "markdown",
      "source": [
        "Step 1.3 Git hub Cloning"
      ],
      "metadata": {
        "id": "ypM7lNnuvDGf"
      }
    },
    {
      "cell_type": "code",
      "source": [
        "!git clone https://github.com/Satyajit24behera/Py-feat-webapp  webapp"
      ],
      "metadata": {
        "colab": {
          "base_uri": "https://localhost:8080/"
        },
        "id": "fh5Hwnc-8NMQ",
        "outputId": "a32f11c2-6765-42f0-a51d-36a0ac4a26f8"
      },
      "execution_count": 66,
      "outputs": [
        {
          "output_type": "stream",
          "name": "stdout",
          "text": [
            "Cloning into 'webapp'...\n",
            "remote: Enumerating objects: 36, done.\u001b[K\n",
            "remote: Counting objects: 100% (36/36), done.\u001b[K\n",
            "remote: Compressing objects: 100% (32/32), done.\u001b[K\n",
            "remote: Total 36 (delta 15), reused 0 (delta 0), pack-reused 0\u001b[K\n",
            "Unpacking objects: 100% (36/36), 19.97 KiB | 1.43 MiB/s, done.\n"
          ]
        }
      ]
    },
    {
      "cell_type": "markdown",
      "source": [
        "#Step 2: Hosting the Web app"
      ],
      "metadata": {
        "id": "6q_AU0YyvmKw"
      }
    },
    {
      "cell_type": "code",
      "source": [
        "from pyngrok import ngrok\n",
        "public_url = ngrok.connect(port='8501')\n",
        "print (public_url)\n",
        "!streamlit run --server.port 8501 https://raw.githubusercontent.com/Satyajit24behera/Py-feat-webapp/main/py_feat_streamlit.py >/dev/null"
      ],
      "metadata": {
        "colab": {
          "base_uri": "https://localhost:8080/"
        },
        "id": "iJvxgrAbJThK",
        "outputId": "1408f741-abd5-4fb2-f8a8-5778ff58555d"
      },
      "execution_count": 67,
      "outputs": [
        {
          "output_type": "stream",
          "name": "stdout",
          "text": [
            "http://d7d3-35-221-154-82.ngrok-free.app\n"
          ]
        }
      ]
    },
    {
      "cell_type": "markdown",
      "source": [
        "#### If you want to stop the app then stop execution of above cell and then run below code"
      ],
      "metadata": {
        "id": "ILuyOFQpxPJQ"
      }
    },
    {
      "cell_type": "code",
      "source": [
        "!pgrep streamlit\n",
        "ngrok.kill()"
      ],
      "metadata": {
        "id": "Y5HXhv5g6536"
      },
      "execution_count": 68,
      "outputs": []
    }
  ]
}